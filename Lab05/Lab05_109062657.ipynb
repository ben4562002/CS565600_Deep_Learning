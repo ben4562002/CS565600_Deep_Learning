{
 "cells": [
  {
   "cell_type": "code",
   "execution_count": 1,
   "metadata": {},
   "outputs": [],
   "source": [
    "import pandas as pd\n",
    "import numpy as np\n",
    "seed = np.random.seed\n",
    "\n",
    "from sklearn.tree import DecisionTreeClassifier\n",
    "from sklearn.model_selection import train_test_split\n",
    "from sklearn.datasets import load_breast_cancer\n",
    "import matplotlib.pyplot as plt\n",
    "from sklearn.metrics import accuracy_score\n",
    "from sklearn.ensemble import RandomForestClassifier\n",
    "from sklearn.preprocessing import StandardScaler\n",
    "from matplotlib.colors import ListedColormap\n",
    "from sklearn.linear_model import LinearRegression\n",
    "from sklearn.preprocessing import PolynomialFeatures\n",
    "from sklearn.metrics import mean_squared_error\n"
   ]
  },
  {
   "cell_type": "markdown",
   "metadata": {},
   "source": [
    "### Dataset analysis"
   ]
  },
  {
   "cell_type": "code",
   "execution_count": 2,
   "metadata": {},
   "outputs": [
    {
     "name": "stdout",
     "output_type": "stream",
     "text": [
      "(85751, 8)\n",
      "Index(['PERIOD', 'GAME_CLOCK', 'SHOT_CLOCK', 'DRIBBLES', 'TOUCH_TIME',\n",
      "       'SHOT_DIST', 'PTS_TYPE', 'CLOSE_DEF_DIST'],\n",
      "      dtype='object')\n",
      "Index(['FGM'], dtype='object')\n",
      "Class labels: [0 1]\n"
     ]
    },
    {
     "data": {
      "text/html": [
       "<div>\n",
       "<style scoped>\n",
       "    .dataframe tbody tr th:only-of-type {\n",
       "        vertical-align: middle;\n",
       "    }\n",
       "\n",
       "    .dataframe tbody tr th {\n",
       "        vertical-align: top;\n",
       "    }\n",
       "\n",
       "    .dataframe thead th {\n",
       "        text-align: right;\n",
       "    }\n",
       "</style>\n",
       "<table border=\"1\" class=\"dataframe\">\n",
       "  <thead>\n",
       "    <tr style=\"text-align: right;\">\n",
       "      <th></th>\n",
       "      <th>PERIOD</th>\n",
       "      <th>GAME_CLOCK</th>\n",
       "      <th>SHOT_CLOCK</th>\n",
       "      <th>DRIBBLES</th>\n",
       "      <th>TOUCH_TIME</th>\n",
       "      <th>SHOT_DIST</th>\n",
       "      <th>PTS_TYPE</th>\n",
       "      <th>CLOSE_DEF_DIST</th>\n",
       "    </tr>\n",
       "  </thead>\n",
       "  <tbody>\n",
       "    <tr>\n",
       "      <th>0</th>\n",
       "      <td>1</td>\n",
       "      <td>358</td>\n",
       "      <td>2.4</td>\n",
       "      <td>0</td>\n",
       "      <td>3.2</td>\n",
       "      <td>20.6</td>\n",
       "      <td>2</td>\n",
       "      <td>4.5</td>\n",
       "    </tr>\n",
       "    <tr>\n",
       "      <th>1</th>\n",
       "      <td>1</td>\n",
       "      <td>585</td>\n",
       "      <td>8.3</td>\n",
       "      <td>0</td>\n",
       "      <td>1.2</td>\n",
       "      <td>3.0</td>\n",
       "      <td>2</td>\n",
       "      <td>0.5</td>\n",
       "    </tr>\n",
       "    <tr>\n",
       "      <th>2</th>\n",
       "      <td>1</td>\n",
       "      <td>540</td>\n",
       "      <td>19.9</td>\n",
       "      <td>0</td>\n",
       "      <td>0.6</td>\n",
       "      <td>3.5</td>\n",
       "      <td>2</td>\n",
       "      <td>3.2</td>\n",
       "    </tr>\n",
       "    <tr>\n",
       "      <th>3</th>\n",
       "      <td>1</td>\n",
       "      <td>392</td>\n",
       "      <td>9.0</td>\n",
       "      <td>0</td>\n",
       "      <td>0.9</td>\n",
       "      <td>21.1</td>\n",
       "      <td>2</td>\n",
       "      <td>4.9</td>\n",
       "    </tr>\n",
       "    <tr>\n",
       "      <th>4</th>\n",
       "      <td>3</td>\n",
       "      <td>401</td>\n",
       "      <td>22.7</td>\n",
       "      <td>0</td>\n",
       "      <td>0.7</td>\n",
       "      <td>4.1</td>\n",
       "      <td>2</td>\n",
       "      <td>2.9</td>\n",
       "    </tr>\n",
       "  </tbody>\n",
       "</table>\n",
       "</div>"
      ],
      "text/plain": [
       "   PERIOD  GAME_CLOCK  SHOT_CLOCK  DRIBBLES  TOUCH_TIME  SHOT_DIST  PTS_TYPE  \\\n",
       "0       1         358         2.4         0         3.2       20.6         2   \n",
       "1       1         585         8.3         0         1.2        3.0         2   \n",
       "2       1         540        19.9         0         0.6        3.5         2   \n",
       "3       1         392         9.0         0         0.9       21.1         2   \n",
       "4       3         401        22.7         0         0.7        4.1         2   \n",
       "\n",
       "   CLOSE_DEF_DIST  \n",
       "0             4.5  \n",
       "1             0.5  \n",
       "2             3.2  \n",
       "3             4.9  \n",
       "4             2.9  "
      ]
     },
     "execution_count": 2,
     "metadata": {},
     "output_type": "execute_result"
    }
   ],
   "source": [
    "X_train_ori = pd.read_csv('./data/X_train.csv')\n",
    "y_train_ori = pd.read_csv('./data/y_train.csv')\n",
    "\n",
    "X_test_ori = pd.read_csv('./data/X_test.csv')\n",
    "print(X_train_ori.shape)\n",
    "print(X_train_ori.columns)\n",
    "print(y_train_ori.columns)\n",
    "print('Class labels:', np.unique(y_train_ori))\n",
    "X_train_ori.head()"
   ]
  },
  {
   "cell_type": "markdown",
   "metadata": {},
   "source": [
    "### We don't have y_test this time, need to split a validation set for checking performance"
   ]
  },
  {
   "cell_type": "code",
   "execution_count": 3,
   "metadata": {},
   "outputs": [],
   "source": [
    "X_train, X_val, y_train, y_val = train_test_split(X_train_ori, y_train_ori, test_size=0.25, random_state=1) # 0.25 x 0.8 = 0.2"
   ]
  },
  {
   "cell_type": "code",
   "execution_count": 4,
   "metadata": {},
   "outputs": [
    {
     "name": "stdout",
     "output_type": "stream",
     "text": [
      "(64313, 8) (64313, 1)\n",
      "(21438, 8) (21438, 1)\n"
     ]
    }
   ],
   "source": [
    "print(X_train.shape, y_train.shape)\n",
    "print(X_val.shape, y_val.shape)"
   ]
  },
  {
   "cell_type": "markdown",
   "metadata": {},
   "source": [
    "### - Random Forest Classifier"
   ]
  },
  {
   "cell_type": "code",
   "execution_count": 109,
   "metadata": {},
   "outputs": [
    {
     "name": "stderr",
     "output_type": "stream",
     "text": [
      "/usr/local/lib/python3.6/dist-packages/ipykernel_launcher.py:6: DataConversionWarning: A column-vector y was passed when a 1d array was expected. Please change the shape of y to (n_samples,), for example using ravel().\n",
      "  \n"
     ]
    },
    {
     "name": "stdout",
     "output_type": "stream",
     "text": [
      "#Training data points: 64313\n",
      "#Testing data points: 21438\n",
      "Train Accuracy (Random forest): 1.00\n",
      "valid Accuracy (Random forest): 0.60\n"
     ]
    }
   ],
   "source": [
    "# Train a RandomForestClassifier as model \n",
    "forest = RandomForestClassifier(criterion='entropy',\n",
    "                                n_estimators=200, \n",
    "                                random_state=1,\n",
    "                                n_jobs=2)\n",
    "forest.fit(X_train, y_train)\n",
    "\n",
    "print('#Training data points: %d' % X_train.shape[0])\n",
    "print('#Testing data points: %d' % X_val.shape[0])\n",
    "\n",
    "y_train_pred = forest.predict(X_train)\n",
    "y_valid_pred = forest.predict(X_val)\n",
    "\n",
    "print('Train Accuracy (Random forest): %.2f' % accuracy_score(y_train, y_train_pred))\n",
    "print('valid Accuracy (Random forest): %.2f' % accuracy_score(y_val, y_valid_pred))\n"
   ]
  },
  {
   "cell_type": "markdown",
   "metadata": {},
   "source": [
    " - Random forest is overfitting"
   ]
  },
  {
   "cell_type": "markdown",
   "metadata": {},
   "source": [
    "### - Decision tree classifier"
   ]
  },
  {
   "cell_type": "code",
   "execution_count": 124,
   "metadata": {},
   "outputs": [
    {
     "name": "stdout",
     "output_type": "stream",
     "text": [
      "#Training data points: 64313\n",
      "#Testing data points: 21438\n",
      "Train Accuracy (Decision tree): 0.61\n",
      "valid Accuracy (Decision tree): 0.61\n"
     ]
    }
   ],
   "source": [
    "# Train a RandomForestClassifier as model \n",
    "tree = DecisionTreeClassifier(criterion='entropy',\n",
    "                                max_depth=4, \n",
    "                                random_state=0)\n",
    "tree.fit(X_train, y_train)\n",
    "\n",
    "print('#Training data points: %d' % X_train.shape[0])\n",
    "print('#Testing data points: %d' % X_val.shape[0])\n",
    "\n",
    "y_train_pred = tree.predict(X_train)\n",
    "y_valid_pred = tree.predict(X_val)\n",
    "\n",
    "print('Train Accuracy (Decision tree): %.2f' % accuracy_score(y_train, y_train_pred))\n",
    "print('valid Accuracy (Decision tree): %.2f' % accuracy_score(y_val, y_valid_pred))"
   ]
  },
  {
   "cell_type": "markdown",
   "metadata": {},
   "source": [
    "- Decision tree has a good accuracy without feature selection: 61%"
   ]
  },
  {
   "cell_type": "markdown",
   "metadata": {},
   "source": [
    "### Computing Feature Importance"
   ]
  },
  {
   "cell_type": "code",
   "execution_count": 27,
   "metadata": {},
   "outputs": [
    {
     "name": "stdout",
     "output_type": "stream",
     "text": [
      " 1) GAME_CLOCK                     0.205362\n",
      " 2) SHOT_DIST                      0.195250\n",
      " 3) SHOT_CLOCK                     0.188259\n",
      " 4) CLOSE_DEF_DIST                 0.167823\n",
      " 5) TOUCH_TIME                     0.140839\n",
      " 6) PERIOD                         0.048811\n",
      " 7) DRIBBLES                       0.047166\n",
      " 8) PTS_TYPE                       0.006490\n"
     ]
    }
   ],
   "source": [
    "importances = forest.feature_importances_\n",
    "# get sort indices in descending order\n",
    "indices = np.argsort(importances)[::-1]\n",
    "\n",
    "for f in range(X_train.shape[1]):\n",
    "    print(\"%2d) %-*s %f\" % (f + 1, 30, \n",
    "                            X_train.columns.values[indices[f]], \n",
    "                            importances[indices[f]]))\n"
   ]
  },
  {
   "cell_type": "code",
   "execution_count": 111,
   "metadata": {},
   "outputs": [
    {
     "data": {
      "image/png": "[encoded data removed]",
      "text/plain": [
       "<Figure size 432x288 with 1 Axes>"
      ]
     },
     "metadata": {
      "needs_background": "light"
     },
     "output_type": "display_data"
    }
   ],
   "source": [
    "Z_forest = X_train[['GAME_CLOCK', 'SHOT_DIST', 'SHOT_CLOCK']].values\n",
    "\n",
    "colors = ['r', 'b', 'g']\n",
    "markers = ['s', 'x', 'o']\n",
    "y_ = y_train.iloc[:, 0]\n",
    "for l, c, m in zip(np.unique(y_.values), colors, markers):\n",
    "    plt.scatter(Z_forest[y_.values==l, 0], \n",
    "                Z_forest[y_.values==l, 1], \n",
    "                c=c, label=l, marker=m)\n",
    "\n",
    "plt.title('Z_forest')\n",
    "plt.xlabel('GAME_CLOCK')\n",
    "plt.ylabel('SHOT_DIST')\n",
    "plt.legend(loc='lower right')\n",
    "plt.tight_layout()\n",
    "plt.show()"
   ]
  },
  {
   "cell_type": "markdown",
   "metadata": {},
   "source": [
    "### train a decision tree based on Z_forest"
   ]
  },
  {
   "cell_type": "code",
   "execution_count": 112,
   "metadata": {},
   "outputs": [
    {
     "data": {
      "text/plain": [
       "(64313, 3)"
      ]
     },
     "metadata": {},
     "output_type": "display_data"
    }
   ],
   "source": [
    "Z_forest_train, Z_forest_test, y_forest_train, y_forest_test = train_test_split(\n",
    "    Z_forest, y_train, test_size=0.3, random_state=0)\n",
    "\n",
    "display(Z_forest.shape)"
   ]
  },
  {
   "cell_type": "code",
   "execution_count": 115,
   "metadata": {},
   "outputs": [
    {
     "name": "stdout",
     "output_type": "stream",
     "text": [
      "train Accuracy (Decision Tree): 0.61\n",
      "valid Accuracy (Decision Tree): 0.61\n",
      "Accuracy per feature: 0.20\n"
     ]
    }
   ],
   "source": [
    "tree_ = DecisionTreeClassifier(criterion='entropy', \n",
    "                                     max_depth=3, \n",
    "                                     random_state=0)\n",
    "tree_.fit(Z_forest_train, y_forest_train)\n",
    "\n",
    "y_train_pred = tree_.predict(Z_forest_train)\n",
    "y_valid_pred = tree_.predict(Z_forest_test)\n",
    "\n",
    "print('train Accuracy (Decision Tree): %.2f' % accuracy_score(y_forest_train, y_train_pred))\n",
    "print('valid Accuracy (Decision Tree): %.2f' % accuracy_score(y_forest_test, y_valid_pred))\n",
    "print('Accuracy per feature: %.2f' % (accuracy_score(y_forest_test, y_forest_pred)/Z_forest.shape[1]))"
   ]
  },
  {
   "cell_type": "markdown",
   "metadata": {},
   "source": [
    "- Decision tree has a good accuracy with feature selection: 61%\n",
    "- 這麼做並不會提高準確率，所以接下來的模型將利用原始資料。"
   ]
  },
  {
   "cell_type": "markdown",
   "metadata": {},
   "source": [
    "### - Linear Regression with threshold=0.5"
   ]
  },
  {
   "cell_type": "code",
   "execution_count": 132,
   "metadata": {},
   "outputs": [
    {
     "name": "stdout",
     "output_type": "stream",
     "text": [
      "train Accuracy (Linear Regression): 0.61\n",
      "valid Accuracy (Linear Regression): 0.61\n"
     ]
    }
   ],
   "source": [
    "lr = LinearRegression()\n",
    "\n",
    "lr.fit(X_train, y_train)\n",
    "\n",
    "y_train_pred = np.where(lr.predict(X_train) >= 0.5, 1, 0)\n",
    "y_valid_pred = np.where(lr.predict(X_val) >= 0.5, 1, 0)\n",
    "\n",
    "print('train Accuracy (Linear Regression): %.2f' % accuracy_score(y_train, y_train_pred))\n",
    "print('valid Accuracy (Linear Regression): %.2f' % accuracy_score(y_val, y_valid_pred))"
   ]
  },
  {
   "cell_type": "markdown",
   "metadata": {},
   "source": [
    "- Linear Regression also has a good accuracy : 61%"
   ]
  },
  {
   "cell_type": "markdown",
   "metadata": {},
   "source": [
    "### - Polynomial Regression"
   ]
  },
  {
   "cell_type": "code",
   "execution_count": 20,
   "metadata": {},
   "outputs": [],
   "source": [
    "MSE_train = []\n",
    "MSE_test = []\n",
    "acc_train = []\n",
    "acc_test = []\n",
    "\n",
    "MAX_degree = 5\n",
    "\n",
    "\n",
    "for d in range(1, MAX_degree):\n",
    "    poly = PolynomialFeatures(degree=d)\n",
    "    X_train_poly = poly.fit_transform(X_train)\n",
    "    X_test_poly = poly.transform(X_val)\n",
    "    \n",
    "    regr = LinearRegression()\n",
    "    regr = regr.fit(X_train_poly, y_train)\n",
    "    y_train_pred = regr.predict(X_train_poly)\n",
    "    y_test_pred = regr.predict(X_test_poly)\n",
    "    \n",
    "    MSE_train.append(mean_squared_error(y_train, y_train_pred))\n",
    "    MSE_test.append(mean_squared_error(y_val, y_test_pred))\n"
   ]
  },
  {
   "cell_type": "code",
   "execution_count": 21,
   "metadata": {},
   "outputs": [
    {
     "data": {
      "image/png": "[encoded data removed]",
      "text/plain": [
       "<Figure size 432x288 with 1 Axes>"
      ]
     },
     "metadata": {
      "needs_background": "light"
     },
     "output_type": "display_data"
    }
   ],
   "source": [
    "plt.plot(range(1, MAX_degree), MSE_train, label = 'Training error', color = 'blue', linewidth = 2)\n",
    "plt.plot(range(1, MAX_degree), MSE_test, label = 'Testing error', color = 'red', linewidth = 2)\n",
    "plt.legend(loc='upper right')\n",
    "plt.xlabel('Model complexity (polynomial degree)')\n",
    "plt.ylabel('$MSE$')\n",
    "plt.tight_layout()\n",
    "plt.show()"
   ]
  },
  {
   "cell_type": "markdown",
   "metadata": {},
   "source": [
    "- Mean square error 在 degree 大於 3 之後開始遞增。\n",
    "- 最小的 testing error 在 degree 為 3。"
   ]
  },
  {
   "cell_type": "code",
   "execution_count": 30,
   "metadata": {},
   "outputs": [
    {
     "name": "stdout",
     "output_type": "stream",
     "text": [
      "degree: 1\n",
      "train Accuracy (PolynomialRegression): 0.607\n",
      "valid Accuracy (PolynomialRegression): 0.610\n",
      "\n",
      "\n",
      "degree: 2\n",
      "train Accuracy (PolynomialRegression): 0.616\n",
      "valid Accuracy (PolynomialRegression): 0.616\n",
      "\n",
      "\n",
      "degree: 3\n",
      "train Accuracy (PolynomialRegression): 0.618\n",
      "valid Accuracy (PolynomialRegression): 0.615\n",
      "\n",
      "\n",
      "degree: 4\n",
      "train Accuracy (PolynomialRegression): 0.620\n",
      "valid Accuracy (PolynomialRegression): 0.614\n",
      "\n",
      "\n",
      "degree: 5\n",
      "train Accuracy (PolynomialRegression): 0.625\n",
      "valid Accuracy (PolynomialRegression): 0.613\n",
      "\n",
      "\n"
     ]
    }
   ],
   "source": [
    "acc_train = []\n",
    "acc_test = []\n",
    "\n",
    "MAX_degree = 6\n",
    "\n",
    "\n",
    "for d in range(1, MAX_degree):\n",
    "    poly = PolynomialFeatures(degree=d)\n",
    "    X_train_poly = poly.fit_transform(X_train)\n",
    "    X_test_poly = poly.transform(X_val)\n",
    "    \n",
    "    regr = LinearRegression()\n",
    "    regr = regr.fit(X_train_poly, y_train)\n",
    "    y_train_pred = np.where(regr.predict(X_train_poly) >= 0.5, 1, 0)\n",
    "    y_test_pred = np.where(regr.predict(X_test_poly) >= 0.5, 1, 0)\n",
    "    \n",
    "    acc_train.append(accuracy_score(y_train, y_train_pred))\n",
    "    acc_test.append(accuracy_score(y_val, y_test_pred))\n",
    "    print('degree:',d)\n",
    "    print('train Accuracy (PolynomialRegression): %.3f' % accuracy_score(y_train, y_train_pred))\n",
    "    print('valid Accuracy (PolynomialRegression): %.3f' % accuracy_score(y_val, y_test_pred))\n",
    "    print(\"\\n\")\n",
    "    \n",
    "    MSE_train.append(mean_squared_error(y_train, y_train_pred))\n",
    "    MSE_test.append(mean_squared_error(y_val, y_test_pred))"
   ]
  },
  {
   "cell_type": "code",
   "execution_count": 31,
   "metadata": {},
   "outputs": [
    {
     "data": {
      "image/png": "[encoded data removed]",
      "text/plain": [
       "<Figure size 432x288 with 1 Axes>"
      ]
     },
     "metadata": {
      "needs_background": "light"
     },
     "output_type": "display_data"
    }
   ],
   "source": [
    "plt.plot(range(1, MAX_degree), acc_train, label = 'Training acc', color = 'blue', linewidth = 2)\n",
    "plt.plot(range(1, MAX_degree), acc_test, label = 'Valid acc', color = 'red', linewidth = 2)\n",
    "plt.legend(loc='upper right')\n",
    "plt.xlabel('Model complexity (polynomial degree)')\n",
    "plt.ylabel('$ACC$')\n",
    "plt.tight_layout()\n",
    "plt.show()"
   ]
  },
  {
   "cell_type": "markdown",
   "metadata": {},
   "source": [
    "- Polynomial Regression have a best accuracy 61.6% wihch degree=2"
   ]
  }
 ],
 "metadata": {
  "kernelspec": {
   "display_name": "Python 3",
   "language": "python",
   "name": "python3"
  },
  "language_info": {
   "codemirror_mode": {
    "name": "ipython",
    "version": 3
   },
   "file_extension": ".py",
   "mimetype": "text/x-python",
   "name": "python",
   "nbconvert_exporter": "python",
   "pygments_lexer": "ipython3",
   "version": "3.6.9"
  }
 },
 "nbformat": 4,
 "nbformat_minor": 2
}
